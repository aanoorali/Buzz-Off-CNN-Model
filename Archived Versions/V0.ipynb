{
 "cells": [
  {
   "cell_type": "markdown",
   "id": "35ae6385",
   "metadata": {},
   "source": [
    "Varroa Mite Detection"
   ]
  },
  {
   "cell_type": "code",
   "execution_count": null,
   "id": "80f3413a",
   "metadata": {},
   "outputs": [
    {
     "name": "stdout",
     "output_type": "stream",
     "text": [
      "Found existing installation: keras 3.9.2\n",
      "Uninstalling keras-3.9.2:\n",
      "  Successfully uninstalled keras-3.9.2\n",
      "Note: you may need to restart the kernel to use updated packages.\n",
      "^C\n",
      "Note: you may need to restart the kernel to use updated packages.\n"
     ]
    },
    {
     "name": "stdout",
     "output_type": "stream",
     "text": [
      "Requirement already satisfied: tensorflow in c:\\users\\nbdy\\appdata\\local\\programs\\python\\python312\\lib\\site-packages (2.19.0)\n",
      "Requirement already satisfied: absl-py>=1.0.0 in c:\\users\\nbdy\\appdata\\local\\programs\\python\\python312\\lib\\site-packages (from tensorflow) (2.2.2)\n",
      "Requirement already satisfied: astunparse>=1.6.0 in c:\\users\\nbdy\\appdata\\local\\programs\\python\\python312\\lib\\site-packages (from tensorflow) (1.6.3)\n",
      "Requirement already satisfied: flatbuffers>=24.3.25 in c:\\users\\nbdy\\appdata\\local\\programs\\python\\python312\\lib\\site-packages (from tensorflow) (25.2.10)\n",
      "Requirement already satisfied: gast!=0.5.0,!=0.5.1,!=0.5.2,>=0.2.1 in c:\\users\\nbdy\\appdata\\local\\programs\\python\\python312\\lib\\site-packages (from tensorflow) (0.6.0)\n",
      "Requirement already satisfied: google-pasta>=0.1.1 in c:\\users\\nbdy\\appdata\\local\\programs\\python\\python312\\lib\\site-packages (from tensorflow) (0.2.0)\n",
      "Requirement already satisfied: libclang>=13.0.0 in c:\\users\\nbdy\\appdata\\local\\programs\\python\\python312\\lib\\site-packages (from tensorflow) (18.1.1)\n",
      "Requirement already satisfied: opt-einsum>=2.3.2 in c:\\users\\nbdy\\appdata\\local\\programs\\python\\python312\\lib\\site-packages (from tensorflow) (3.4.0)\n",
      "Requirement already satisfied: packaging in c:\\users\\nbdy\\appdata\\roaming\\python\\python312\\site-packages (from tensorflow) (24.2)\n",
      "Requirement already satisfied: protobuf!=4.21.0,!=4.21.1,!=4.21.2,!=4.21.3,!=4.21.4,!=4.21.5,<6.0.0dev,>=3.20.3 in c:\\users\\nbdy\\appdata\\local\\programs\\python\\python312\\lib\\site-packages (from tensorflow) (5.29.4)\n",
      "Requirement already satisfied: requests<3,>=2.21.0 in c:\\users\\nbdy\\appdata\\local\\programs\\python\\python312\\lib\\site-packages (from tensorflow) (2.32.3)\n",
      "Requirement already satisfied: setuptools in c:\\users\\nbdy\\appdata\\local\\programs\\python\\python312\\lib\\site-packages (from tensorflow) (70.2.0)\n",
      "Requirement already satisfied: six>=1.12.0 in c:\\users\\nbdy\\appdata\\roaming\\python\\python312\\site-packages (from tensorflow) (1.17.0)\n",
      "Requirement already satisfied: termcolor>=1.1.0 in c:\\users\\nbdy\\appdata\\local\\programs\\python\\python312\\lib\\site-packages (from tensorflow) (3.0.1)\n",
      "Requirement already satisfied: typing-extensions>=3.6.6 in c:\\users\\nbdy\\appdata\\local\\programs\\python\\python312\\lib\\site-packages (from tensorflow) (4.12.2)\n",
      "Requirement already satisfied: wrapt>=1.11.0 in c:\\users\\nbdy\\appdata\\local\\programs\\python\\python312\\lib\\site-packages (from tensorflow) (1.17.2)\n",
      "Requirement already satisfied: grpcio<2.0,>=1.24.3 in c:\\users\\nbdy\\appdata\\local\\programs\\python\\python312\\lib\\site-packages (from tensorflow) (1.71.0)\n",
      "Requirement already satisfied: tensorboard~=2.19.0 in c:\\users\\nbdy\\appdata\\local\\programs\\python\\python312\\lib\\site-packages (from tensorflow) (2.19.0)\n",
      "Collecting keras>=3.5.0 (from tensorflow)\n",
      "  Using cached keras-3.9.2-py3-none-any.whl.metadata (6.1 kB)\n",
      "Requirement already satisfied: numpy<2.2.0,>=1.26.0 in c:\\users\\nbdy\\appdata\\local\\programs\\python\\python312\\lib\\site-packages (from tensorflow) (2.1.1)\n",
      "Requirement already satisfied: h5py>=3.11.0 in c:\\users\\nbdy\\appdata\\local\\programs\\python\\python312\\lib\\site-packages (from tensorflow) (3.13.0)\n",
      "Requirement already satisfied: ml-dtypes<1.0.0,>=0.5.1 in c:\\users\\nbdy\\appdata\\local\\programs\\python\\python312\\lib\\site-packages (from tensorflow) (0.5.1)\n",
      "Requirement already satisfied: wheel<1.0,>=0.23.0 in c:\\users\\nbdy\\appdata\\local\\programs\\python\\python312\\lib\\site-packages (from astunparse>=1.6.0->tensorflow) (0.45.1)\n",
      "Requirement already satisfied: rich in c:\\users\\nbdy\\appdata\\local\\programs\\python\\python312\\lib\\site-packages (from keras>=3.5.0->tensorflow) (14.0.0)\n",
      "Requirement already satisfied: namex in c:\\users\\nbdy\\appdata\\local\\programs\\python\\python312\\lib\\site-packages (from keras>=3.5.0->tensorflow) (0.0.8)\n",
      "Requirement already satisfied: optree in c:\\users\\nbdy\\appdata\\local\\programs\\python\\python312\\lib\\site-packages (from keras>=3.5.0->tensorflow) (0.15.0)\n",
      "Requirement already satisfied: charset-normalizer<4,>=2 in c:\\users\\nbdy\\appdata\\local\\programs\\python\\python312\\lib\\site-packages (from requests<3,>=2.21.0->tensorflow) (3.4.1)\n",
      "Requirement already satisfied: idna<4,>=2.5 in c:\\users\\nbdy\\appdata\\local\\programs\\python\\python312\\lib\\site-packages (from requests<3,>=2.21.0->tensorflow) (3.10)\n",
      "Requirement already satisfied: urllib3<3,>=1.21.1 in c:\\users\\nbdy\\appdata\\local\\programs\\python\\python312\\lib\\site-packages (from requests<3,>=2.21.0->tensorflow) (2.4.0)\n",
      "Requirement already satisfied: certifi>=2017.4.17 in c:\\users\\nbdy\\appdata\\local\\programs\\python\\python312\\lib\\site-packages (from requests<3,>=2.21.0->tensorflow) (2024.8.30)\n",
      "Requirement already satisfied: markdown>=2.6.8 in c:\\users\\nbdy\\appdata\\local\\programs\\python\\python312\\lib\\site-packages (from tensorboard~=2.19.0->tensorflow) (3.8)\n",
      "Requirement already satisfied: tensorboard-data-server<0.8.0,>=0.7.0 in c:\\users\\nbdy\\appdata\\local\\programs\\python\\python312\\lib\\site-packages (from tensorboard~=2.19.0->tensorflow) (0.7.2)\n",
      "Requirement already satisfied: werkzeug>=1.0.1 in c:\\users\\nbdy\\appdata\\local\\programs\\python\\python312\\lib\\site-packages (from tensorboard~=2.19.0->tensorflow) (3.1.3)\n",
      "Requirement already satisfied: MarkupSafe>=2.1.1 in c:\\users\\nbdy\\appdata\\local\\programs\\python\\python312\\lib\\site-packages (from werkzeug>=1.0.1->tensorboard~=2.19.0->tensorflow) (2.1.5)\n",
      "Requirement already satisfied: markdown-it-py>=2.2.0 in c:\\users\\nbdy\\appdata\\local\\programs\\python\\python312\\lib\\site-packages (from rich->keras>=3.5.0->tensorflow) (3.0.0)\n",
      "Requirement already satisfied: pygments<3.0.0,>=2.13.0 in c:\\users\\nbdy\\appdata\\roaming\\python\\python312\\site-packages (from rich->keras>=3.5.0->tensorflow) (2.19.1)\n",
      "Requirement already satisfied: mdurl~=0.1 in c:\\users\\nbdy\\appdata\\local\\programs\\python\\python312\\lib\\site-packages (from markdown-it-py>=2.2.0->rich->keras>=3.5.0->tensorflow) (0.1.2)\n",
      "Using cached keras-3.9.2-py3-none-any.whl (1.3 MB)\n",
      "Installing collected packages: keras\n",
      "Successfully installed keras-3.9.2\n"
     ]
    }
   ],
   "source": [
    "# Cell 0: Installation\n",
    "%pip uninstall -y keras\n",
    "%pip install --upgrade tensorflow"
   ]
  },
  {
   "cell_type": "code",
   "execution_count": 2,
   "id": "2a45ca59",
   "metadata": {},
   "outputs": [
    {
     "name": "stdout",
     "output_type": "stream",
     "text": [
      "TensorFlow version: 2.19.0\n",
      "Keras version:  3.9.2\n"
     ]
    }
   ],
   "source": [
    "# Cell 1: Imports & global parameters\n",
    "\n",
    "import os\n",
    "import numpy as np\n",
    "import pandas as pd\n",
    "import tensorflow as tf\n",
    "# import keras\n",
    "\n",
    "from sklearn.model_selection import KFold, train_test_split\n",
    "from sklearn.metrics import accuracy_score, precision_score, recall_score, f1_score\n",
    "\n",
    "# Speed up tf.data pipelines\n",
    "AUTOTUNE = tf.data.experimental.AUTOTUNE\n",
    "\n",
    "# Adjustable parameters\n",
    "img_height = 224\n",
    "img_width  = 224\n",
    "batch_size = 32\n",
    "epochs     = 10\n",
    "num_folds  = 5\n",
    "\n",
    "# Your data locations\n",
    "data_dir   = 'images'       # folder containing all bee jpgs\n",
    "\n",
    "\n",
    "# Cell 2: Check TensorFlow and Keras versions\n",
    "\n",
    "print(\"TensorFlow version:\", tf.__version__)\n",
    "print(\"Keras version: \", tf.keras.__version__) \n",
    "\n",
    "\n",
    "\n",
    "\n",
    "\n"
   ]
  },
  {
   "cell_type": "code",
   "execution_count": 3,
   "id": "20de4c72",
   "metadata": {},
   "outputs": [
    {
     "data": {
      "text/html": [
       "<div>\n",
       "<style scoped>\n",
       "    .dataframe tbody tr th:only-of-type {\n",
       "        vertical-align: middle;\n",
       "    }\n",
       "\n",
       "    .dataframe tbody tr th {\n",
       "        vertical-align: top;\n",
       "    }\n",
       "\n",
       "    .dataframe thead th {\n",
       "        text-align: right;\n",
       "    }\n",
       "</style>\n",
       "<table border=\"1\" class=\"dataframe\">\n",
       "  <thead>\n",
       "    <tr style=\"text-align: right;\">\n",
       "      <th></th>\n",
       "      <th>filename</th>\n",
       "      <th>has_mite</th>\n",
       "    </tr>\n",
       "  </thead>\n",
       "  <tbody>\n",
       "    <tr>\n",
       "      <th>0</th>\n",
       "      <td>2017-08-28_16-32-55_30_sec-mp4-bee_id_6686-900...</td>\n",
       "      <td>1</td>\n",
       "    </tr>\n",
       "    <tr>\n",
       "      <th>1</th>\n",
       "      <td>2017-08-30_15-42-59-mp4-bee_id_9232-4830-1_png...</td>\n",
       "      <td>0</td>\n",
       "    </tr>\n",
       "    <tr>\n",
       "      <th>2</th>\n",
       "      <td>2017-10-17_16-41-10-mp4-bee_id_6940-2115-1_png...</td>\n",
       "      <td>0</td>\n",
       "    </tr>\n",
       "    <tr>\n",
       "      <th>3</th>\n",
       "      <td>2017-10-17_1-39-36-mp4-bee_id_3468-105-1_png.r...</td>\n",
       "      <td>0</td>\n",
       "    </tr>\n",
       "    <tr>\n",
       "      <th>4</th>\n",
       "      <td>2017-08-30_15-42-59-mp4-bee_id_9226-4545-1_png...</td>\n",
       "      <td>0</td>\n",
       "    </tr>\n",
       "  </tbody>\n",
       "</table>\n",
       "</div>"
      ],
      "text/plain": [
       "                                            filename  has_mite\n",
       "0  2017-08-28_16-32-55_30_sec-mp4-bee_id_6686-900...         1\n",
       "1  2017-08-30_15-42-59-mp4-bee_id_9232-4830-1_png...         0\n",
       "2  2017-10-17_16-41-10-mp4-bee_id_6940-2115-1_png...         0\n",
       "3  2017-10-17_1-39-36-mp4-bee_id_3468-105-1_png.r...         0\n",
       "4  2017-08-30_15-42-59-mp4-bee_id_9226-4545-1_png...         0"
      ]
     },
     "execution_count": 3,
     "metadata": {},
     "output_type": "execute_result"
    }
   ],
   "source": [
    "# Cell 2: Load labels & preprocess\n",
    "\n",
    "df = pd.read_csv('labels.csv')\n",
    "\n",
    "filepaths = df['filename'].values\n",
    "has_mite = df['has_mite'].values\n",
    "\n",
    "# Convert boolean to int if needed\n",
    "df['has_mite'] = df['has_mite'].astype(int)\n",
    "\n",
    "df.head()"
   ]
  },
  {
   "cell_type": "code",
   "execution_count": 4,
   "id": "93aabfa0",
   "metadata": {},
   "outputs": [],
   "source": [
    "# Cell 3: Model‐building function\n",
    "\n",
    "def create_model(input_shape=(img_height, img_width, 3)):\n",
    "    model = tf.keras.models.Sequential([\n",
    "        tf.keras.layers.Rescaling(1./255, input_shape=input_shape),\n",
    "        tf.keras.layers.Conv2D(32, 3, activation='relu'),\n",
    "        tf.keras.layers.MaxPooling2D(),\n",
    "        tf.keras.layers.Conv2D(64, 3, activation='relu'),\n",
    "        tf.keras.layers.MaxPooling2D(),\n",
    "        tf.keras.layers.Conv2D(128, 3, activation='relu'),\n",
    "        tf.keras.layers.MaxPooling2D(),\n",
    "        tf.keras.layers.Flatten(),\n",
    "        tf.keras.layers.Dense(128, activation='relu'),\n",
    "        tf.keras.layers.Dense(1, activation='sigmoid')\n",
    "    ])\n",
    "    model.compile(\n",
    "        optimizer='adam',\n",
    "        loss='binary_crossentropy',\n",
    "        metrics=['accuracy']\n",
    "    )\n",
    "    return model"
   ]
  },
  {
   "cell_type": "code",
   "execution_count": 5,
   "id": "4a4d3d10",
   "metadata": {},
   "outputs": [
    {
     "ename": "AttributeError",
     "evalue": "module 'keras.api.utils' has no attribute 'image_dataset_from_dataframe'",
     "output_type": "error",
     "traceback": [
      "\u001b[31m---------------------------------------------------------------------------\u001b[39m",
      "\u001b[31mAttributeError\u001b[39m                            Traceback (most recent call last)",
      "\u001b[36mCell\u001b[39m\u001b[36m \u001b[39m\u001b[32mIn[5]\u001b[39m\u001b[32m, line 21\u001b[39m\n\u001b[32m     13\u001b[39m train_df, val_df = train_test_split(\n\u001b[32m     14\u001b[39m     train_val_df,\n\u001b[32m     15\u001b[39m     test_size=\u001b[32m0.2\u001b[39m,\n\u001b[32m     16\u001b[39m     stratify=train_val_df[\u001b[33m'\u001b[39m\u001b[33mhas_mite\u001b[39m\u001b[33m'\u001b[39m],\n\u001b[32m     17\u001b[39m     random_state=\u001b[32m42\u001b[39m\n\u001b[32m     18\u001b[39m )\n\u001b[32m     20\u001b[39m \u001b[38;5;66;03m# Create tf.data Datasets from each DataFrame\u001b[39;00m\n\u001b[32m---> \u001b[39m\u001b[32m21\u001b[39m train_ds = \u001b[43mtf\u001b[49m\u001b[43m.\u001b[49m\u001b[43mkeras\u001b[49m\u001b[43m.\u001b[49m\u001b[43mutils\u001b[49m\u001b[43m.\u001b[49m\u001b[43mimage_dataset_from_dataframe\u001b[49m(\n\u001b[32m     22\u001b[39m     train_df,\n\u001b[32m     23\u001b[39m     directory=data_dir,\n\u001b[32m     24\u001b[39m     x_col=\u001b[33m'\u001b[39m\u001b[33mfilename\u001b[39m\u001b[33m'\u001b[39m,\n\u001b[32m     25\u001b[39m     y_col=\u001b[33m'\u001b[39m\u001b[33mhas_mite\u001b[39m\u001b[33m'\u001b[39m,\n\u001b[32m     26\u001b[39m     label_mode=\u001b[33m'\u001b[39m\u001b[33mbinary\u001b[39m\u001b[33m'\u001b[39m,\n\u001b[32m     27\u001b[39m     image_size=(img_height, img_width),\n\u001b[32m     28\u001b[39m     batch_size=batch_size,\n\u001b[32m     29\u001b[39m     shuffle=\u001b[38;5;28;01mTrue\u001b[39;00m\n\u001b[32m     30\u001b[39m ).prefetch(AUTOTUNE)\n\u001b[32m     32\u001b[39m val_ds = tf.keras.utils.image_dataset_from_dataframe(\n\u001b[32m     33\u001b[39m     val_df,\n\u001b[32m     34\u001b[39m     directory=data_dir,\n\u001b[32m   (...)\u001b[39m\u001b[32m     40\u001b[39m     shuffle=\u001b[38;5;28;01mFalse\u001b[39;00m\n\u001b[32m     41\u001b[39m ).prefetch(AUTOTUNE)\n\u001b[32m     43\u001b[39m test_ds = tf.keras.utils.image_dataset_from_dataframe(\n\u001b[32m     44\u001b[39m     test_df,\n\u001b[32m     45\u001b[39m     directory=data_dir,\n\u001b[32m   (...)\u001b[39m\u001b[32m     51\u001b[39m     shuffle=\u001b[38;5;28;01mFalse\u001b[39;00m\n\u001b[32m     52\u001b[39m ).prefetch(AUTOTUNE)\n",
      "\u001b[31mAttributeError\u001b[39m: module 'keras.api.utils' has no attribute 'image_dataset_from_dataframe'"
     ]
    }
   ],
   "source": [
    "# Cell 4: K‑Fold Cross‑Validation loop\n",
    "\n",
    "kf = KFold(n_splits=num_folds, shuffle=True, random_state=42)\n",
    "fold_no = 1\n",
    "results = []\n",
    "\n",
    "for train_val_idx, test_idx in kf.split(df):\n",
    "    # Split into train+val and test\n",
    "    train_val_df = df.iloc[train_val_idx]\n",
    "    test_df      = df.iloc[test_idx]\n",
    "    \n",
    "    # Further split train_val into train & validation (20% val)\n",
    "    train_df, val_df = train_test_split(\n",
    "        train_val_df,\n",
    "        test_size=0.2,\n",
    "        stratify=train_val_df['has_mite'],\n",
    "        random_state=42\n",
    "    )\n",
    "    \n",
    "    # Create tf.data Datasets from each DataFrame\n",
    "    train_ds = tf.keras.utils.image_dataset_from_dataframe(\n",
    "        train_df,\n",
    "        directory=data_dir,\n",
    "        x_col='filename',\n",
    "        y_col='has_mite',\n",
    "        label_mode='binary',\n",
    "        image_size=(img_height, img_width),\n",
    "        batch_size=batch_size,\n",
    "        shuffle=True\n",
    "    ).prefetch(AUTOTUNE)\n",
    "    \n",
    "    val_ds = tf.keras.utils.image_dataset_from_dataframe(\n",
    "        val_df,\n",
    "        directory=data_dir,\n",
    "        x_col='filename',\n",
    "        y_col='has_mite',\n",
    "        label_mode='binary',\n",
    "        image_size=(img_height, img_width),\n",
    "        batch_size=batch_size,\n",
    "        shuffle=False\n",
    "    ).prefetch(AUTOTUNE)\n",
    "    \n",
    "    test_ds = tf.keras.utils.image_dataset_from_dataframe(\n",
    "        test_df,\n",
    "        directory=data_dir,\n",
    "        x_col='filename',\n",
    "        y_col='has_mite',\n",
    "        label_mode='binary',\n",
    "        image_size=(img_height, img_width),\n",
    "        batch_size=batch_size,\n",
    "        shuffle=False\n",
    "    ).prefetch(AUTOTUNE)\n",
    "    \n",
    "    # Build and train\n",
    "    model = create_model()\n",
    "    print(f\"\\n=== Training fold {fold_no}/{num_folds} ===\")\n",
    "    model.fit(\n",
    "        train_ds,\n",
    "        validation_data=val_ds,\n",
    "        epochs=epochs,\n",
    "        verbose=1\n",
    "    )\n",
    "    \n",
    "    # Evaluate on test set\n",
    "    test_loss, test_acc = model.evaluate(test_ds, verbose=0)\n",
    "    \n",
    "    # Gather predictions for sklearn metrics\n",
    "    y_true = np.concatenate([y.numpy() for x, y in test_ds], axis=0)\n",
    "    y_prob = model.predict(test_ds).flatten()\n",
    "    y_pred = (y_prob > 0.5).astype(int)\n",
    "    \n",
    "    # Compute metrics\n",
    "    acc  = accuracy_score(y_true, y_pred)\n",
    "    prec = precision_score(y_true, y_pred, zero_division=0)\n",
    "    rec  = recall_score(y_true, y_pred, zero_division=0)\n",
    "    f1   = f1_score(y_true, y_pred, zero_division=0)\n",
    "    \n",
    "    results.append({\n",
    "        'fold': fold_no,\n",
    "        'test_loss': test_loss,\n",
    "        'test_accuracy': test_acc,\n",
    "        'accuracy': acc,\n",
    "        'precision': prec,\n",
    "        'recall': rec,\n",
    "        'f1_score': f1\n",
    "    })\n",
    "    \n",
    "    fold_no += 1\n"
   ]
  },
  {
   "cell_type": "code",
   "execution_count": null,
   "id": "36718724",
   "metadata": {},
   "outputs": [
    {
     "name": "stdout",
     "output_type": "stream",
     "text": [
      "Per‑fold results:\n"
     ]
    },
    {
     "data": {
      "text/html": [
       "<div>\n",
       "<style scoped>\n",
       "    .dataframe tbody tr th:only-of-type {\n",
       "        vertical-align: middle;\n",
       "    }\n",
       "\n",
       "    .dataframe tbody tr th {\n",
       "        vertical-align: top;\n",
       "    }\n",
       "\n",
       "    .dataframe thead th {\n",
       "        text-align: right;\n",
       "    }\n",
       "</style>\n",
       "<table border=\"1\" class=\"dataframe\">\n",
       "  <thead>\n",
       "    <tr style=\"text-align: right;\">\n",
       "      <th></th>\n",
       "    </tr>\n",
       "  </thead>\n",
       "  <tbody>\n",
       "  </tbody>\n",
       "</table>\n",
       "</div>"
      ],
      "text/plain": [
       "Empty DataFrame\n",
       "Columns: []\n",
       "Index: []"
      ]
     },
     "metadata": {},
     "output_type": "display_data"
    },
    {
     "name": "stdout",
     "output_type": "stream",
     "text": [
      "\n",
      "Average across folds:\n"
     ]
    },
    {
     "data": {
      "text/html": [
       "<div>\n",
       "<style scoped>\n",
       "    .dataframe tbody tr th:only-of-type {\n",
       "        vertical-align: middle;\n",
       "    }\n",
       "\n",
       "    .dataframe tbody tr th {\n",
       "        vertical-align: top;\n",
       "    }\n",
       "\n",
       "    .dataframe thead th {\n",
       "        text-align: right;\n",
       "    }\n",
       "</style>\n",
       "<table border=\"1\" class=\"dataframe\">\n",
       "  <thead>\n",
       "    <tr style=\"text-align: right;\">\n",
       "      <th></th>\n",
       "    </tr>\n",
       "  </thead>\n",
       "  <tbody>\n",
       "    <tr>\n",
       "      <th>0</th>\n",
       "    </tr>\n",
       "  </tbody>\n",
       "</table>\n",
       "</div>"
      ],
      "text/plain": [
       "Empty DataFrame\n",
       "Columns: []\n",
       "Index: [0]"
      ]
     },
     "metadata": {},
     "output_type": "display_data"
    }
   ],
   "source": [
    "# Cell 5: Summarize & display metrics\n",
    "\n",
    "results_df = pd.DataFrame(results)\n",
    "print(\"Per‑fold results:\")\n",
    "display(results_df)\n",
    "\n",
    "print(\"\\nAverage across folds:\")\n",
    "display(results_df.mean().to_frame().T.round(4))"
   ]
  }
 ],
 "metadata": {
  "kernelspec": {
   "display_name": "Python 3",
   "language": "python",
   "name": "python3"
  },
  "language_info": {
   "codemirror_mode": {
    "name": "ipython",
    "version": 3
   },
   "file_extension": ".py",
   "mimetype": "text/x-python",
   "name": "python",
   "nbconvert_exporter": "python",
   "pygments_lexer": "ipython3",
   "version": "3.12.6"
  }
 },
 "nbformat": 4,
 "nbformat_minor": 5
}
